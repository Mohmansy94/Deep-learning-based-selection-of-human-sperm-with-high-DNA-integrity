{
 "cells": [
  {
   "cell_type": "markdown",
   "metadata": {},
   "source": [
    "## This notebook renames large-format tif images found here: https://figshare.com/articles/Deep_learning-based_selection_of_human_sperm_with_high_DNA_integrity/8124932\n",
    "\n",
    "- The next notebook (02_get_coordinates...) allows individual cells to be selected and cropped"
   ]
  },
  {
   "cell_type": "code",
   "execution_count": 1,
   "metadata": {},
   "outputs": [],
   "source": [
    "import numpy as np\n",
    "import pandas as pd\n",
    "import cv2\n",
    "import os\n",
    "import matplotlib.pyplot as plt\n",
    "import datetime\n",
    "from shutil import copyfile\n",
    "\n",
    "now = datetime.datetime.now()\n",
    "todays_date = (now.strftime('%Y%m%d%H%M'))\n",
    "\n",
    "# set image and data path here of images to read\n",
    "pwd = os.getcwd()\n",
    "orig_path = os.path.join(pwd,'01_original_large_tifs')\n",
    "new_path = os.path.join(pwd,'01_renamed_and_sorted_large_tifs')\n",
    "\n",
    "# set image and data path here of images to write\n",
    "if not os.path.exists(new_path):\n",
    "    os.makedirs(new_path)"
   ]
  },
  {
   "cell_type": "code",
   "execution_count": 2,
   "metadata": {
    "scrolled": true
   },
   "outputs": [
    {
     "name": "stdout",
     "output_type": "stream",
     "text": [
      "bright field New-10_b0s0c0x0-1920y0-1080m0.tif BF0.tif\n",
      "green New-09_b0s0c0x0-1920y0-1080m0.tif Green0.tif\n",
      "red New-09_b0s0c1x0-1920y0-1080m0.tif Red0.tif\n"
     ]
    }
   ],
   "source": [
    "new_names = []\n",
    "old_names = []\n",
    "\n",
    "BF_iter = G_iter = R_iter = 0\n",
    "\n",
    "for root, dirs, files in os.walk(orig_path, topdown=False):\n",
    "        for name in files:\n",
    "            one_up = root.split('\\\\')[-1]\n",
    "            \n",
    "#             print(one_up, name)\n",
    "            \n",
    "            if 'bright' in one_up.lower():\n",
    "                new_name = 'BF' + str(BF_iter) + '.tif'\n",
    "                BF_iter += 1\n",
    "            elif 'green' in one_up.lower():\n",
    "                new_name = 'Green' + str(G_iter) + '.tif'\n",
    "                G_iter += 1\n",
    "            elif 'red' in one_up.lower():\n",
    "                new_name = 'Red' + str(R_iter) + '.tif'\n",
    "                R_iter += 1\n",
    "                \n",
    "            old_names.append(os.path.join(root,name))\n",
    "            new_names.append(new_name)\n",
    "            print(one_up, name, new_name)\n",
    "            \n",
    "            src = os.path.join(root, name)\n",
    "            dst = os.path.join(new_path, new_name)\n",
    "            \n",
    "            copyfile(src,dst)\n",
    "            "
   ]
  },
  {
   "cell_type": "code",
   "execution_count": null,
   "metadata": {},
   "outputs": [],
   "source": []
  }
 ],
 "metadata": {
  "kernelspec": {
   "display_name": "Python 3",
   "language": "python",
   "name": "python3"
  },
  "language_info": {
   "codemirror_mode": {
    "name": "ipython",
    "version": 3
   },
   "file_extension": ".py",
   "mimetype": "text/x-python",
   "name": "python",
   "nbconvert_exporter": "python",
   "pygments_lexer": "ipython3",
   "version": "3.6.5"
  }
 },
 "nbformat": 4,
 "nbformat_minor": 2
}
